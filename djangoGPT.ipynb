{
 "cells": [
  {
   "cell_type": "code",
   "execution_count": 2,
   "metadata": {},
   "outputs": [],
   "source": [
    "import os \n",
    "import openai\n",
    "from dotenv import load_dotenv\n",
    "\n",
    "load_dotenv()\n",
    "\n",
    "openai.api_key = os.getenv(\"OPENAI_API_KEY\")\n"
   ]
  },
  {
   "cell_type": "code",
   "execution_count": 2,
   "metadata": {},
   "outputs": [
    {
     "name": "stdout",
     "output_type": "stream",
     "text": [
      "\n",
      "\n",
      "This paper presents a new approach to artificial neural networks called the Neural Autoregressive Distribution Estimator (NADE). NADE is a generative model that uses a feed-forward neural network to estimate the probability distribution of a given dataset. The model is trained using a maximum likelihood approach, and is capable of learning complex distributions. The paper also discusses the advantages of NADE over other generative models, such as its ability to capture long-term dependencies in data. Finally, the paper presents experimental results that demonstrate the effectiveness of NADE in modeling real-world datasets.\n"
     ]
    }
   ],
   "source": [
    "# v1 Completion\n",
    "\n",
    "response = openai.Completion.create(model=\"text-davinci-003\", prompt=\"read this article `https://www.jmlr.org/papers/volume3/bengio03a/bengio03a.pdf` and summarize it for me\", temperature=0.0, max_tokens=2000)\n",
    "# print(response)\n",
    "print(response['choices'][0]['text'])"
   ]
  },
  {
   "cell_type": "code",
   "execution_count": 6,
   "metadata": {},
   "outputs": [
    {
     "name": "stdout",
     "output_type": "stream",
     "text": [
      "Role: system, Content: You are a private teacher helping someone learn programming. Your pupil has a solid foundational understanding of python, and is utlizing the django framework to build a web application. bootstrap is the framework being used for web design.\n",
      "Role: user, Content: the current project is using a base.html, with an integrated navbar, and sidebar (`<project>/templates/partials/_sidebar.html`). how do i link the dashbaord.html to one of the list items in my _sidebar.html?.\n",
      "Response: To link the dashboard.html to one of the list items in _sidebar.html, you will need to specify the URL or route that will be triggered when the sidebar list item is clicked. \n",
      "\n",
      "Here are the steps you can follow:\n",
      "\n",
      "1. In your views.py file, create a method that renders the dashboard.html template. \n",
      "\n",
      "```python\n",
      "from django.shortcuts import render\n",
      "\n",
      "def dashboard(request):\n",
      "    return render(request, 'dashboard.html')\n",
      "```\n",
      "\n",
      "2. In your urls.py file, specify the route that should lead to the dashboard method you created. \n",
      "\n",
      "```python\n",
      "from django.urls import path\n",
      "from . import views\n",
      "\n",
      "urlpatterns = [\n",
      "    path('', views.dashboard, name='dashboard'),\n",
      "    # other routes for other pages\n",
      "]\n",
      "```\n",
      "\n",
      "3. In _sidebar.html, modify the list item where you want to add the link to the dashboard. For example, if you want to add it as the first item on the sidebar, you can add the following code:\n",
      "\n",
      "```html\n",
      "<ul class=\"navbar-nav bg-gradient-primary sidebar sidebar-dark accordion\" id=\"accordionSidebar\">\n",
      "    <li class=\"nav-item active\">\n",
      "\t<a class=\"nav-link\" href=\"{% url 'dashboard' %}\">\n",
      "\t    <i class=\"fas fa-fw fa-tachometer-alt\"></i>\n",
      "\t    <span>Dashboard</span>\n",
      "\t</a>\n",
      "    </li>\n",
      "    <!-- Other list items -->\n",
      "</ul>\n",
      "```\n",
      "\n",
      "Make sure that the `href` attribute of the `<a>` tag points to the URL that you set for the dashboard in `urls.py`. In this case, it points to the name of the URL: `dashboard`.\n",
      "\n",
      "That's it! Now when you click on the \"Dashboard\" list item, it should take you to the dashboard page.\n"
     ]
    }
   ],
   "source": [
    "# v1 Chat Completion\n",
    "\n",
    "messages = [\n",
    "    {\"role\": \"system\", \"content\": \"You are a private teacher helping someone learn programming. Your pupil has a solid foundational understanding of python, and is utlizing the django framework to build a web application. bootstrap is the framework being used for web design.\"}, \n",
    "    {\"role\": \"user\", \"content\": \"the current project is using a base.html, with an integrated navbar, and sidebar (`<project>/templates/partials/_sidebar.html`). how do i link the dashbaord.html to one of the list items in my _sidebar.html?.\"}, \n",
    "]\n",
    "\n",
    "response = openai.ChatCompletion.create(\n",
    "    model=\"gpt-3.5-turbo\", \n",
    "    messages=messages\n",
    ")\n",
    "\n",
    "# print prompts\n",
    "for message in messages:\n",
    "    print(f\"Role: {message['role']}, Content: {message['content']}\")\n",
    "\n",
    "# print(response) \n",
    "print(f\"Response: {response.choices[0].message['content']}\")"
   ]
  },
  {
   "attachments": {},
   "cell_type": "markdown",
   "metadata": {},
   "source": [
    "- Role: system, Content: You are a private teacher helping someone learn programming. Your pupil has a solid foundational understanding of python, and is utlizing the django framework to build a web application. bootstrap is the framework being used for web design.\n",
    "- Role: user, Content: the current project is using a base.html, with an integrated navbar, and sidebar (`<project>/templates/partials/_sidebar.html`). how do i link the dashbaord.html to one of the list items in my _sidebar.html?.\n",
    "\n",
    "- Response: To link the dashboard.html to one of the list items in _sidebar.html, you will need to specify the URL or route that will be triggered when the sidebar list item is clicked. \n",
    "\n",
    "Here are the steps you can follow:\n",
    "\n",
    "1. In your views.py file, create a method that renders the dashboard.html template. \n",
    "\n",
    "```python\n",
    "from django.shortcuts import render\n",
    "\n",
    "def dashboard(request):\n",
    "    return render(request, 'dashboard.html')\n",
    "```\n",
    "\n",
    "2. In your urls.py file, specify the route that should lead to the dashboard method you created. \n",
    "\n",
    "```python\n",
    "from django.urls import path\n",
    "from . import views\n",
    "\n",
    "urlpatterns = [\n",
    "    path('', views.dashboard, name='dashboard'),\n",
    "    # other routes for other pages\n",
    "]\n",
    "```\n",
    "\n",
    "3. In _sidebar.html, modify the list item where you want to add the link to the dashboard. For example, if you want to add it as the first item on the sidebar, you can add the following code:\n",
    "\n",
    "```html\n",
    "<ul class=\"navbar-nav bg-gradient-primary sidebar sidebar-dark accordion\" id=\"accordionSidebar\">\n",
    "    <li class=\"nav-item active\">\n",
    "\t<a class=\"nav-link\" href=\"{% url 'dashboard' %}\">\n",
    "\t    <i class=\"fas fa-fw fa-tachometer-alt\"></i>\n",
    "\t    <span>Dashboard</span>\n",
    "\t</a>\n",
    "    </li>\n",
    "    <!-- Other list items -->\n",
    "</ul>\n",
    "```\n",
    "\n",
    "Make sure that the `href` attribute of the `<a>` tag points to the URL that you set for the dashboard in `urls.py`. In this case, it points to the name of the URL: `dashboard`.\n",
    "\n",
    "That's it! Now when you click on the \"Dashboard\" list item, it should take you to the dashboard page.\n"
   ]
  }
 ],
 "metadata": {
  "kernelspec": {
   "display_name": "Python 3",
   "language": "python",
   "name": "python3"
  },
  "language_info": {
   "codemirror_mode": {
    "name": "ipython",
    "version": 3
   },
   "file_extension": ".py",
   "mimetype": "text/x-python",
   "name": "python",
   "nbconvert_exporter": "python",
   "pygments_lexer": "ipython3",
   "version": "3.11.3"
  },
  "orig_nbformat": 4
 },
 "nbformat": 4,
 "nbformat_minor": 2
}
